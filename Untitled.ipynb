{
 "cells": [
  {
   "cell_type": "code",
   "execution_count": 1,
   "metadata": {},
   "outputs": [],
   "source": [
    "import pickle\n",
    "import numpy as np\n",
    "import tensorflow as tf\n",
    "from sklearn.utils import shuffle\n",
    "from sklearn.model_selection import train_test_split"
   ]
  },
  {
   "cell_type": "code",
   "execution_count": 2,
   "metadata": {},
   "outputs": [],
   "source": [
    "X_train = []\n",
    "y_train = []\n",
    "for i in range(1,6):\n",
    "    with open('cifar-10-batches-py/data_batch_'+str(i), 'rb') as f:\n",
    "        d = pickle.load(f, encoding='bytes')\n",
    "    X_train += [d[b'data']]\n",
    "    y_train += [d[b'labels']]\n",
    "X_train = np.vstack(X_train)\n",
    "y_train = np.vstack(y_train).reshape((-1,))\n",
    "\n",
    "X_train = np.transpose(X_train.reshape(-1,3,32,32), (0,2,3,1))\n",
    "\n",
    "X_train, X_val, y_train, y_val = train_test_split(X_train, y_train, test_size=0.1)"
   ]
  },
  {
   "cell_type": "code",
   "execution_count": 3,
   "metadata": {
    "collapsed": true
   },
   "outputs": [],
   "source": [
    "with open('cifar-10-batches-py/test_batch', 'rb') as f:\n",
    "    d = pickle.load(f, encoding='bytes')\n",
    "X_test = np.array(d[b'data'])\n",
    "X_test = np.transpose(X_test.reshape(-1,3,32,32), (0,2,3,1))\n",
    "y_test = np.array(d[b'labels']).reshape((-1,))"
   ]
  },
  {
   "cell_type": "code",
   "execution_count": 6,
   "metadata": {},
   "outputs": [],
   "source": [
    "lr = 1e-4\n",
    "sess = tf.Session()\n",
    "\n",
    "x_image = tf.placeholder(tf.float32, [None, 32, 32, 3], 'image')\n",
    "\n",
    "labels = tf.placeholder(tf.int64, [None, ], 'label')\n",
    "\n",
    "conv1 = tf.layers.conv2d(\n",
    "      inputs=x_image,\n",
    "      filters=32,\n",
    "      kernel_size=[10, 10],\n",
    "      padding=\"same\",\n",
    "      activation=tf.nn.relu)\n",
    "pool1 = tf.layers.max_pooling2d(inputs=conv1, pool_size=[2, 2], strides=2)\n",
    "\n",
    "conv2 = tf.layers.conv2d(\n",
    "      inputs=pool1,\n",
    "      filters=64,\n",
    "      kernel_size=[7, 7],\n",
    "      padding=\"same\",\n",
    "      activation=tf.nn.relu)\n",
    "pool2 = tf.layers.max_pooling2d(inputs=conv2, pool_size=[2, 2], strides=2)\n",
    "\n",
    "conv3 = tf.layers.conv2d(\n",
    "      inputs=pool2,\n",
    "      filters=128,\n",
    "      kernel_size=[5, 5],\n",
    "      padding=\"same\",\n",
    "      activation=tf.nn.relu)\n",
    "pool3 = tf.layers.max_pooling2d(inputs=conv3, pool_size=[2, 2], strides=2)\n",
    "pool3_flat = tf.reshape(pool3, [-1, 4 * 4 * 128])\n",
    "dense = tf.layers.dense(inputs=pool3_flat, units=1024, activation=tf.nn.relu)\n",
    "logits = tf.layers.dense(inputs=dense, units=10)\n",
    "\n",
    "loss = tf.nn.sparse_softmax_cross_entropy_with_logits(logits=logits, labels=labels)\n",
    "acc = tf.reduce_mean(tf.cast(tf.equal(labels, tf.argmax(logits, axis=1)), tf.float32))\n",
    "optimizer = tf.train.AdamOptimizer(lr)\n",
    "train_op = optimizer.minimize(loss)\n",
    "\n",
    "sess.run(tf.global_variables_initializer())"
   ]
  },
  {
   "cell_type": "code",
   "execution_count": 7,
   "metadata": {
    "scrolled": true
   },
   "outputs": [
    {
     "name": "stdout",
     "output_type": "stream",
     "text": [
      "epoch 0\n",
      "epoch 1cc = 0.46875\n",
      "epoch 2cc = 0.53125\n",
      "epoch 3cc = 0.68755\n",
      "epoch 4cc = 0.59375\n",
      "epoch 5cc = 0.71875\n",
      "epoch 6cc = 0.68755\n",
      "epoch 7cc = 0.71875\n",
      "epoch 8cc = 0.78125\n",
      "epoch 9cc = 0.96875\n",
      "finished training!5\n"
     ]
    }
   ],
   "source": [
    "b = 32 # batch size\n",
    "train_accs = []\n",
    "val_accs = []\n",
    "for i in range(10): # 10 epochs\n",
    "    print('epoch', i)\n",
    "    X_train, y_train = shuffle(X_train, y_train)\n",
    "    for l in range(X_train.shape[0]//b):\n",
    "        start = l * b\n",
    "        end = (l+1) * b\n",
    "        tr_ac = sess.run(acc, {x_image: X_train[start:end, :], labels: y_train[start:end]})\n",
    "        train_accs += [tr_ac]\n",
    "        print('train acc =', tr_ac, end='\\r')\n",
    "        sess.run(train_op, {x_image: X_train[start:end, :], labels: y_train[start:end]})\n",
    "        if l % 100 == 0 and l>0:\n",
    "            v_ac = sess.run(acc, {x_image: X_val, labels: y_val})\n",
    "            val_accs += [v_ac]\n",
    "            print('val acc =', v_ac, end='\\r')\n",
    "    lr *= 0.999\n",
    "print('finished training!')"
   ]
  },
  {
   "cell_type": "code",
   "execution_count": 8,
   "metadata": {},
   "outputs": [
    {
     "data": {
      "image/png": "[encoded data removed]",
      "text/plain": [
       "<matplotlib.figure.Figure at 0x13519d3da90>"
      ]
     },
     "metadata": {},
     "output_type": "display_data"
    }
   ],
   "source": [
    "import matplotlib.pyplot as plt\n",
    "plt.plot(train_accs[::100], label='tr')\n",
    "plt.plot(val_accs, label='val')\n",
    "plt.xlabel('10^2 steps')\n",
    "plt.ylabel('acc')\n",
    "plt.legend(loc='best')\n",
    "plt.show()"
   ]
  },
  {
   "cell_type": "code",
   "execution_count": 9,
   "metadata": {},
   "outputs": [],
   "source": [
    "saver = tf.train.Saver()\n",
    "saver.save(sess, 'model/model10ep.ckpt');\n",
    "# saver.restore(sess, 'model/model10ep.ckpt')"
   ]
  },
  {
   "cell_type": "code",
   "execution_count": 10,
   "metadata": {},
   "outputs": [
    {
     "name": "stdout",
     "output_type": "stream",
     "text": [
      "0.6163\n"
     ]
    }
   ],
   "source": [
    "print(sess.run(acc, {x_image: X_test, labels: y_test}))"
   ]
  },
  {
   "cell_type": "code",
   "execution_count": 11,
   "metadata": {},
   "outputs": [
    {
     "data": {
      "image/png": "[encoded data removed]",
      "text/plain": [
       "<matplotlib.figure.Figure at 0x1351c8e8588>"
      ]
     },
     "metadata": {},
     "output_type": "display_data"
    }
   ],
   "source": [
    "plt.imshow(X_train[0])\n",
    "plt.show()"
   ]
  },
  {
   "cell_type": "code",
   "execution_count": null,
   "metadata": {
    "collapsed": true
   },
   "outputs": [],
   "source": []
  }
 ],
 "metadata": {
  "kernelspec": {
   "display_name": "Python 3",
   "language": "python",
   "name": "python3"
  },
  "language_info": {
   "codemirror_mode": {
    "name": "ipython",
    "version": 3
   },
   "file_extension": ".py",
   "mimetype": "text/x-python",
   "name": "python",
   "nbconvert_exporter": "python",
   "pygments_lexer": "ipython3",
   "version": "3.6.1"
  }
 },
 "nbformat": 4,
 "nbformat_minor": 2
}
